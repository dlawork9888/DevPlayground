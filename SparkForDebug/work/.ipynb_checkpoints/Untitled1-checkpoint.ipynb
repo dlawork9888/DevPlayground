{
 "cells": [
  {
   "cell_type": "code",
   "execution_count": 6,
   "id": "a8a0b051-fe71-4d15-900e-91c8eace90dc",
   "metadata": {},
   "outputs": [
    {
     "name": "stdout",
     "output_type": "stream",
     "text": [
      "+-----+---+\n",
      "| Name|Age|\n",
      "+-----+---+\n",
      "|Alice| 29|\n",
      "|  Bob| 31|\n",
      "|Cathy| 25|\n",
      "+-----+---+\n",
      "\n"
     ]
    }
   ],
   "source": [
    "from pyspark.sql import SparkSession\n",
    "\n",
    "# Spark 세션 생성\n",
    "spark = SparkSession.builder.master(\"local[*]\").appName(\"SparkTest\").getOrCreate()\n",
    "\n",
    "# 데이터프레임 생성 및 작업 실행\n",
    "data = [(\"Alice\", 29), (\"Bob\", 31), (\"Cathy\", 25)]\n",
    "df = spark.createDataFrame(data, [\"Name\", \"Age\"])\n",
    "df.show()"
   ]
  },
  {
   "cell_type": "code",
   "execution_count": 7,
   "id": "859009cf-83ff-46f3-ac0e-36462b68add7",
   "metadata": {},
   "outputs": [],
   "source": [
    "spark.stop()\n",
    "# 세션 종료 -> job ui도 닫힌다..."
   ]
  }
 ],
 "metadata": {
  "kernelspec": {
   "display_name": "Python 3 (ipykernel)",
   "language": "python",
   "name": "python3"
  },
  "language_info": {
   "codemirror_mode": {
    "name": "ipython",
    "version": 3
   },
   "file_extension": ".py",
   "mimetype": "text/x-python",
   "name": "python",
   "nbconvert_exporter": "python",
   "pygments_lexer": "ipython3",
   "version": "3.11.6"
  }
 },
 "nbformat": 4,
 "nbformat_minor": 5
}
